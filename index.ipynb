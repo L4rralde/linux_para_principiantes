{
 "cells": [
  {
   "cell_type": "markdown",
   "id": "1f3eb7d6-ac1d-4b70-bdb1-e5e9f21de70c",
   "metadata": {},
   "source": [
    "# Linux para principiantes"
   ]
  },
  {
   "cell_type": "code",
   "execution_count": null,
   "id": "ad5d118b-eb02-43dc-b5a5-a5543539aa62",
   "metadata": {},
   "outputs": [],
   "source": []
  }
 ],
 "metadata": {
  "kernelspec": {
   "display_name": "Python 3 (ipykernel)",
   "language": "python",
   "name": "python3"
  },
  "language_info": {
   "codemirror_mode": {
    "name": "ipython",
    "version": 3
   },
   "file_extension": ".py",
   "mimetype": "text/x-python",
   "name": "python",
   "nbconvert_exporter": "python",
   "pygments_lexer": "ipython3",
   "version": "3.10.13"
  }
 },
 "nbformat": 4,
 "nbformat_minor": 5
}
